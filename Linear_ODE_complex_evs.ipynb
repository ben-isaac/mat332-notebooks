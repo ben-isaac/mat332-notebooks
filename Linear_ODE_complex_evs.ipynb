{
 "cells": [
  {
   "cell_type": "code",
   "execution_count": 1,
   "metadata": {},
   "outputs": [],
   "source": [
    "from sympy import *\n",
    "# Use pretty printing for SymPy `expr`essions\n",
    "init_printing()\n",
    "\n",
    "def noop(*args, **kwargs):\n",
    "    pass\n",
    "if __name__ != '__main__':\n",
    "    display = noop"
   ]
  },
  {
   "cell_type": "markdown",
   "metadata": {},
   "source": [
    "# Linear ODEs: example with complex eigenvalues\n",
    "\n",
    "In this lecture we solve the linear ODE $\\dot x=Ax$, where $A=\\begin{bmatrix}6&-5\\\\13&-10\\end{bmatrix}$.\n",
    "I will solve this ODE manually verifying each step using [Python] library [SymPy].\n",
    "\n",
    "[Python]: https://www.python.org \"Python programming language\"\n",
    "[SymPy]: https://www.sympy.org \"Symboic math in Python\"\n",
    "\n",
    "## Eigenvalues and eigenvectors\n",
    "\n",
    "The eigenvalues of this matrix are $-2\\pm i$, and the corresponding eigenvectors are $\\begin{pmatrix}8\\pm i\\\\13\\end{pmatrix}$."
   ]
  },
  {
   "cell_type": "code",
   "execution_count": 2,
   "metadata": {},
   "outputs": [
    {
     "data": {
      "image/png": "[encoded data removed]",
      "text/latex": [
       "$\\displaystyle \\left[ \\left( -2 - i, \\  1, \\  \\left[ \\left[\\begin{matrix}\\frac{8}{13} - \\frac{i}{13}\\\\1\\end{matrix}\\right]\\right]\\right), \\  \\left( -2 + i, \\  1, \\  \\left[ \\left[\\begin{matrix}\\frac{8}{13} + \\frac{i}{13}\\\\1\\end{matrix}\\right]\\right]\\right)\\right]$"
      ],
      "text/plain": [
       "⎡⎛           ⎡⎡8    ⅈ ⎤⎤⎞  ⎛           ⎡⎡8    ⅈ ⎤⎤⎞⎤\n",
       "⎢⎜           ⎢⎢── - ──⎥⎥⎟  ⎜           ⎢⎢── + ──⎥⎥⎟⎥\n",
       "⎢⎜-2 - ⅈ, 1, ⎢⎢13   13⎥⎥⎟, ⎜-2 + ⅈ, 1, ⎢⎢13   13⎥⎥⎟⎥\n",
       "⎢⎜           ⎢⎢       ⎥⎥⎟  ⎜           ⎢⎢       ⎥⎥⎟⎥\n",
       "⎣⎝           ⎣⎣   1   ⎦⎦⎠  ⎝           ⎣⎣   1   ⎦⎦⎠⎦"
      ]
     },
     "execution_count": 2,
     "metadata": {},
     "output_type": "execute_result"
    }
   ],
   "source": [
    "A = Matrix(2, 2, [6, -5, 13, -10])\n",
    "A.eigenvects()"
   ]
  },
  {
   "cell_type": "markdown",
   "metadata": {},
   "source": [
    "## Normal form\n",
    "Therefore, $A = PCP^{-1}$, where $P=\\begin{bmatrix}8&-1\\\\13&0\\end{bmatrix}$, $C=\\begin{bmatrix}-2&-1\\\\1&-2\\end{bmatrix}$. In general, if $v=\\begin{bmatrix}v_1\\\\v_2\\end{bmatrix}$ is an eigenvector of $A$ with eigenvalue $λ$, then $C=\\begin{bmatrix}\\Re\\lambda&-\\Im\\lambda\\\\\\Im\\lambda&\\Re\\lambda\\end{bmatrix}$, $P=\\begin{bmatrix}\\Re v_1&-\\Im v_1\\\\\\Re v_2&-\\Im v_2\\end{bmatrix}$."
   ]
  },
  {
   "cell_type": "code",
   "execution_count": 3,
   "metadata": {},
   "outputs": [
    {
     "data": {
      "image/png": "[encoded data removed]",
      "text/latex": [
       "$\\displaystyle \\left( -2 + i, \\  \\left[\\begin{matrix}8 + i\\\\13\\end{matrix}\\right], \\  \\left[\\begin{matrix}8 & -1\\\\13 & 0\\end{matrix}\\right], \\  \\left[\\begin{matrix}-2 & -1\\\\1 & -2\\end{matrix}\\right]\\right)$"
      ],
      "text/plain": [
       "⎛        ⎡8 + ⅈ⎤  ⎡8   -1⎤  ⎡-2  -1⎤⎞\n",
       "⎜-2 + ⅈ, ⎢     ⎥, ⎢      ⎥, ⎢      ⎥⎟\n",
       "⎝        ⎣ 13  ⎦  ⎣13  0 ⎦  ⎣1   -2⎦⎠"
      ]
     },
     "execution_count": 3,
     "metadata": {},
     "output_type": "execute_result"
    }
   ],
   "source": [
    "(λ, m, (v,)) = A.eigenvects()[1]\n",
    "v *= 13 # get rid of the denominator; it's still an eigenvector\n",
    "assert (A * v).expand() == (λ * v).expand()\n",
    "P = re(v).row_join(-im(v))\n",
    "C = Matrix(2, 2, [re(λ), -im(λ), im(λ), re(λ)])\n",
    "assert P * C * P ** -1 == A\n",
    "λ, v, P, C"
   ]
  },
  {
   "cell_type": "markdown",
   "metadata": {},
   "source": [
    "## Formula for the solution\n",
    "\n",
    "### Solution of the normalized equation\n",
    "Recall that the solution of $\\dot y=\\begin{pmatrix}a&-b\\\\b&a\\end{pmatrix}y$, $y(0)=c$, is given by $y(t)=e^{at}\\begin{pmatrix}\\cos(bt) & -\\sin(bt)\\\\\\sin(bt) & \\cos(bt)\\end{pmatrix}c$, hence solutions of $\\dot y=Cy$ are given by $y(t)=e^{-2t}\\begin{pmatrix}\\cos t&-\\sin t\\\\\\sin t&\\cos t\\end{pmatrix}y(0)$."
   ]
  },
  {
   "cell_type": "code",
   "execution_count": 4,
   "metadata": {},
   "outputs": [
    {
     "data": {
      "image/png": "[encoded data removed]",
      "text/latex": [
       "$\\displaystyle \\left( \\left[\\begin{matrix}e^{- 2 t} \\cos{\\left(t \\right)} & - e^{- 2 t} \\sin{\\left(t \\right)}\\\\e^{- 2 t} \\sin{\\left(t \\right)} & e^{- 2 t} \\cos{\\left(t \\right)}\\end{matrix}\\right], \\  \\left[\\begin{matrix}c_{0} e^{- 2 t} \\cos{\\left(t \\right)} - c_{1} e^{- 2 t} \\sin{\\left(t \\right)}\\\\c_{0} e^{- 2 t} \\sin{\\left(t \\right)} + c_{1} e^{- 2 t} \\cos{\\left(t \\right)}\\end{matrix}\\right]\\right)$"
      ],
      "text/plain": [
       "⎛⎡ -2⋅t           -2⋅t       ⎤  ⎡    -2⋅t              -2⋅t       ⎤⎞\n",
       "⎜⎢ℯ    ⋅cos(t)  -ℯ    ⋅sin(t)⎥  ⎢c₀⋅ℯ    ⋅cos(t) - c₁⋅ℯ    ⋅sin(t)⎥⎟\n",
       "⎜⎢                           ⎥, ⎢                                 ⎥⎟\n",
       "⎜⎢ -2⋅t          -2⋅t        ⎥  ⎢    -2⋅t              -2⋅t       ⎥⎟\n",
       "⎝⎣ℯ    ⋅sin(t)  ℯ    ⋅cos(t) ⎦  ⎣c₀⋅ℯ    ⋅sin(t) + c₁⋅ℯ    ⋅cos(t)⎦⎠"
      ]
     },
     "execution_count": 4,
     "metadata": {},
     "output_type": "execute_result"
    }
   ],
   "source": [
    "var('c0 c1') # Coordinates of $x(0)$\n",
    "var('t') # Time\n",
    "c = Matrix([c0, c1])\n",
    "M = exp(re(λ) * t) * Matrix(2, 2, [cos(im(λ) * t), -sin(im(λ) * t), sin(im(λ) * t), cos(im(λ) * t)])\n",
    "y = M * c\n",
    "assert y.diff(t) == (C * y).expand()\n",
    "M, y"
   ]
  },
  {
   "cell_type": "markdown",
   "metadata": {},
   "source": [
    "### Solution of the original equation\n",
    "Solutions of $\\dot x=Ax$, $x(0)=c$, are given by \n",
    "$$\n",
    "x(t)=PM(t)P^{-1}c=e^{-2t}\\begin{bmatrix}8\\sin t+\\cos t&-5\\sin t\\\\13\\sin t&\\cos t-8\\sin t\\end{bmatrix}x(0).\n",
    "$$"
   ]
  },
  {
   "cell_type": "code",
   "execution_count": 5,
   "metadata": {},
   "outputs": [
    {
     "data": {
      "image/png": "[encoded data removed]",
      "text/latex": [
       "$\\displaystyle \\left[\\begin{matrix}8 e^{- 2 t} \\sin{\\left(t \\right)} + e^{- 2 t} \\cos{\\left(t \\right)} & - 5 e^{- 2 t} \\sin{\\left(t \\right)}\\\\13 e^{- 2 t} \\sin{\\left(t \\right)} & - 8 e^{- 2 t} \\sin{\\left(t \\right)} + e^{- 2 t} \\cos{\\left(t \\right)}\\end{matrix}\\right]$"
      ],
      "text/plain": [
       "⎡   -2⋅t           -2⋅t                     -2⋅t               ⎤\n",
       "⎢8⋅ℯ    ⋅sin(t) + ℯ    ⋅cos(t)          -5⋅ℯ    ⋅sin(t)        ⎥\n",
       "⎢                                                              ⎥\n",
       "⎢           -2⋅t                     -2⋅t           -2⋅t       ⎥\n",
       "⎣       13⋅ℯ    ⋅sin(t)         - 8⋅ℯ    ⋅sin(t) + ℯ    ⋅cos(t)⎦"
      ]
     },
     "metadata": {},
     "output_type": "display_data"
    },
    {
     "data": {
      "image/png": "[encoded data removed]",
      "text/latex": [
       "$\\displaystyle \\left[\\begin{matrix}c_{0} \\left(8 e^{- 2 t} \\sin{\\left(t \\right)} + e^{- 2 t} \\cos{\\left(t \\right)}\\right) - 5 c_{1} e^{- 2 t} \\sin{\\left(t \\right)}\\\\13 c_{0} e^{- 2 t} \\sin{\\left(t \\right)} + c_{1} \\left(- 8 e^{- 2 t} \\sin{\\left(t \\right)} + e^{- 2 t} \\cos{\\left(t \\right)}\\right)\\end{matrix}\\right]$"
      ],
      "text/plain": [
       "⎡    ⎛   -2⋅t           -2⋅t       ⎞         -2⋅t         ⎤\n",
       "⎢ c₀⋅⎝8⋅ℯ    ⋅sin(t) + ℯ    ⋅cos(t)⎠ - 5⋅c₁⋅ℯ    ⋅sin(t)  ⎥\n",
       "⎢                                                         ⎥\n",
       "⎢       -2⋅t             ⎛     -2⋅t           -2⋅t       ⎞⎥\n",
       "⎣13⋅c₀⋅ℯ    ⋅sin(t) + c₁⋅⎝- 8⋅ℯ    ⋅sin(t) + ℯ    ⋅cos(t)⎠⎦"
      ]
     },
     "metadata": {},
     "output_type": "display_data"
    }
   ],
   "source": [
    "x = P * M * P ** -1 * c\n",
    "assert x.diff(t).expand() == (A * x).expand()\n",
    "assert x.subs(t, 0) == c\n",
    "display(P * M * P ** -1, x)"
   ]
  }
 ],
 "metadata": {
  "kernelspec": {
   "display_name": "myenv",
   "language": "python",
   "name": "myenv"
  },
  "language_info": {
   "codemirror_mode": {
    "name": "ipython",
    "version": 3
   },
   "file_extension": ".py",
   "mimetype": "text/x-python",
   "name": "python",
   "nbconvert_exporter": "python",
   "pygments_lexer": "ipython3",
   "version": "3.8.2"
  }
 },
 "nbformat": 4,
 "nbformat_minor": 4
}
