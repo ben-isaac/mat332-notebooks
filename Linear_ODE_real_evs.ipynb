{
 "cells": [
  {
   "cell_type": "code",
   "execution_count": 1,
   "metadata": {},
   "outputs": [],
   "source": [
    "from sympy import *\n",
    "# Use pretty printing for SymPy `expr`essions\n",
    "init_printing()\n",
    "\n",
    "def noop(*args, **kwargs):\n",
    "    pass\n",
    "if __name__ != '__main__':\n",
    "    display = noop"
   ]
  },
  {
   "cell_type": "markdown",
   "metadata": {},
   "source": [
    "# Linear ODEs: example with different real eigenvalues\n",
    "\n",
    "In this lecture we solve the linear ODE $\\dot x=Ax$, where $A=\\begin{bmatrix}1&2\\\\2&1\\end{bmatrix}$.\n",
    "I will solve this ODE manually verifying each step using [Python] library [SymPy].\n",
    "\n",
    "[Python]: https://www.python.org \"Python programming language\"\n",
    "[SymPy]: https://www.sympy.org \"Symboic math in Python\""
   ]
  },
  {
   "cell_type": "markdown",
   "metadata": {},
   "source": [
    "## Eigenvalues and eigenvectors\n",
    "\n",
    "Its [determinant] equals $-3$ and its [trace] equals $2$, hence its [characteristic polynomial] is $\\lambda^2-2\\lambda-3$. The [eigenvalues] of $A$ are the roots of this polynomial: $3$ and $-1$.\n",
    "\n",
    "[determinant]: https://en.wikipedia.org/wiki/Determinant\n",
    "[trace]: https://en.wikipedia.org/wiki/Trace_(linear_algebra)\n",
    "[characteristic polynomial]: https://en.wikipedia.org/wiki/Characteristic_polynomial\n",
    "[eigenvalues]: https://en.wikipedia.org/wiki/Eigenvalues_and_eigenvectors"
   ]
  },
  {
   "cell_type": "code",
   "execution_count": 2,
   "metadata": {},
   "outputs": [
    {
     "data": {
      "image/png": "[encoded data removed]",
      "text/latex": [
       "$\\displaystyle \\left[\\begin{matrix}1 & 2\\\\2 & 1\\end{matrix}\\right]$"
      ],
      "text/plain": [
       "⎡1  2⎤\n",
       "⎢    ⎥\n",
       "⎣2  1⎦"
      ]
     },
     "metadata": {},
     "output_type": "display_data"
    },
    {
     "data": {
      "image/png": "[encoded data removed]",
      "text/latex": [
       "$\\displaystyle 2$"
      ],
      "text/plain": [
       "2"
      ]
     },
     "metadata": {},
     "output_type": "display_data"
    },
    {
     "data": {
      "image/png": "[encoded data removed]",
      "text/latex": [
       "$\\displaystyle -3$"
      ],
      "text/plain": [
       "-3"
      ]
     },
     "metadata": {},
     "output_type": "display_data"
    },
    {
     "data": {
      "image/png": "[encoded data removed]",
      "text/latex": [
       "$\\displaystyle \\operatorname{PurePoly}{\\left( \\lambda^{2} - 2 \\lambda - 3, \\lambda, domain=\\mathbb{Z} \\right)}$"
      ],
      "text/plain": [
       "PurePoly(lambda**2 - 2*lambda - 3, lambda, domain='ZZ')"
      ]
     },
     "metadata": {},
     "output_type": "display_data"
    },
    {
     "data": {
      "image/png": "[encoded data removed]",
      "text/latex": [
       "$\\displaystyle \\left[ -1, \\  3\\right]$"
      ],
      "text/plain": [
       "[-1, 3]"
      ]
     },
     "metadata": {},
     "output_type": "display_data"
    }
   ],
   "source": [
    "A = Matrix([[1, 2], [2, 1]])\n",
    "display(A, A.trace(), A.det(), A.charpoly(), solve(A.charpoly().as_expr()))"
   ]
  },
  {
   "cell_type": "markdown",
   "metadata": {},
   "source": [
    "Solving $Ax=\\lambda x$ for $\\lambda=-1, 3$, we find the corresponding eigenvectors $\\begin{bmatrix}-1\\\\1\\end{bmatrix}$ and $\\begin{bmatrix}1\\\\1\\end{bmatrix}$."
   ]
  },
  {
   "cell_type": "code",
   "execution_count": 3,
   "metadata": {},
   "outputs": [
    {
     "data": {
      "image/png": "[encoded data removed]",
      "text/latex": [
       "$\\displaystyle \\left[ \\left( -1, \\  \\left\\{ x_{1} : - x_{2}\\right\\}\\right), \\  \\left( 3, \\  \\left\\{ x_{1} : x_{2}\\right\\}\\right)\\right]$"
      ],
      "text/plain": [
       "[(-1, {x₁: -x₂}), (3, {x₁: x₂})]"
      ]
     },
     "execution_count": 3,
     "metadata": {},
     "output_type": "execute_result"
    }
   ],
   "source": [
    "var('x1 x2')\n",
    "x = Matrix([x1, x2])\n",
    "[(λ, solve(A * x - λ * x)) for λ in sorted(A.eigenvals())]"
   ]
  },
  {
   "cell_type": "markdown",
   "metadata": {},
   "source": [
    "Of course, `Python` can find eigenvalues and eigenvectors of a matrix in one line"
   ]
  },
  {
   "cell_type": "code",
   "execution_count": 4,
   "metadata": {},
   "outputs": [
    {
     "data": {
      "image/png": "[encoded data removed]",
      "text/latex": [
       "$\\displaystyle \\left\\{ -1 : 1, \\  3 : 1\\right\\}$"
      ],
      "text/plain": [
       "{-1: 1, 3: 1}"
      ]
     },
     "metadata": {},
     "output_type": "display_data"
    },
    {
     "data": {
      "image/png": "[encoded data removed]",
      "text/latex": [
       "$\\displaystyle \\left[ \\left( -1, \\  1, \\  \\left[ \\left[\\begin{matrix}-1\\\\1\\end{matrix}\\right]\\right]\\right), \\  \\left( 3, \\  1, \\  \\left[ \\left[\\begin{matrix}1\\\\1\\end{matrix}\\right]\\right]\\right)\\right]$"
      ],
      "text/plain": [
       "⎡⎛       ⎡⎡-1⎤⎤⎞  ⎛      ⎡⎡1⎤⎤⎞⎤\n",
       "⎢⎜-1, 1, ⎢⎢  ⎥⎥⎟, ⎜3, 1, ⎢⎢ ⎥⎥⎟⎥\n",
       "⎣⎝       ⎣⎣1 ⎦⎦⎠  ⎝      ⎣⎣1⎦⎦⎠⎦"
      ]
     },
     "metadata": {},
     "output_type": "display_data"
    }
   ],
   "source": [
    "display(A.eigenvals(), A.eigenvects())"
   ]
  },
  {
   "cell_type": "markdown",
   "metadata": {},
   "source": [
    "## Diagonalization\n",
    "\n",
    "Therefore, $A=PDP^{-1}$, where $P=\\begin{bmatrix}-1&1\\\\1&1\\end{bmatrix}$ and $D=\\begin{bmatrix}-1&0\\\\0&3\\end{bmatrix}$. Here the columns of $P$ are the eigenvectors of $A$ and $D$ is the diagonal matrix with the eigenvalues of $A$ at the diagonal. Again, we can ask [Python] to find $P$ and $D$ without asking it for the eigenvectors first. See also Wikipedia page about [matrix diagonalization](https://en.wikipedia.org/wiki/Diagonalizable_matrix).\n",
    "\n",
    "[Python]: https://www.python.org \"Python programming language\""
   ]
  },
  {
   "cell_type": "code",
   "execution_count": 5,
   "metadata": {},
   "outputs": [
    {
     "data": {
      "image/png": "[encoded data removed]",
      "text/latex": [
       "$\\displaystyle \\left[\\begin{matrix}-1 & 1\\\\1 & 1\\end{matrix}\\right]$"
      ],
      "text/plain": [
       "⎡-1  1⎤\n",
       "⎢     ⎥\n",
       "⎣1   1⎦"
      ]
     },
     "metadata": {},
     "output_type": "display_data"
    },
    {
     "data": {
      "image/png": "[encoded data removed]",
      "text/latex": [
       "$\\displaystyle \\left[\\begin{matrix}-1 & 0\\\\0 & 3\\end{matrix}\\right]$"
      ],
      "text/plain": [
       "⎡-1  0⎤\n",
       "⎢     ⎥\n",
       "⎣0   3⎦"
      ]
     },
     "metadata": {},
     "output_type": "display_data"
    }
   ],
   "source": [
    "P, D = A.diagonalize()\n",
    "display(P, D)\n",
    "assert P * D * P ** -1 == A"
   ]
  },
  {
   "cell_type": "markdown",
   "metadata": {},
   "source": [
    "## Formula for the solution\n",
    "\n",
    "Recall that solutions of $\\dot y=Dy$ have the form $y(t)=M(t)y(0)$, where $M(t)=\\begin{bmatrix}e^{-t}&0\\\\0&e^{3t}\\end{bmatrix}$.\n",
    "For each solution $y(t)$ of $\\dot y=Dy$, the function $x(t)=Py(t)=PM(t)y(0)$ is a solution of $\\dot x=Ax$.\n",
    "Note that $x(0)=PM(0)y(0)=Py(0)$, hence $y(0)=P^{-1}x(0)$.\n",
    "Finally,\n",
    "$$\n",
    "x(t)=PM(t)P^{-1}x(0)=\\frac{1}{2}\\begin{bmatrix}e^{3t}+e^{-t}&e^{3t}-e^{-t}\\\\e^{3t}-e^{-t}&e^{3t}+e^{-t}\\end{bmatrix}x(0).\n",
    "$$"
   ]
  },
  {
   "cell_type": "code",
   "execution_count": 6,
   "metadata": {},
   "outputs": [
    {
     "data": {
      "image/png": "[encoded data removed]",
      "text/latex": [
       "$\\displaystyle \\left( \\left[\\begin{matrix}e^{- t} & 0\\\\0 & e^{3 t}\\end{matrix}\\right], \\  \\left[\\begin{matrix}c_{0}\\\\c_{1}\\end{matrix}\\right], \\  \\left[\\begin{matrix}c_{0} e^{- t}\\\\c_{1} e^{3 t}\\end{matrix}\\right]\\right)$"
      ],
      "text/plain": [
       "⎛⎡ -t      ⎤        ⎡    -t ⎤⎞\n",
       "⎜⎢ℯ     0  ⎥  ⎡c₀⎤  ⎢c₀⋅ℯ   ⎥⎟\n",
       "⎜⎢         ⎥, ⎢  ⎥, ⎢       ⎥⎟\n",
       "⎜⎢      3⋅t⎥  ⎣c₁⎦  ⎢    3⋅t⎥⎟\n",
       "⎝⎣ 0   ℯ   ⎦        ⎣c₁⋅ℯ   ⎦⎠"
      ]
     },
     "metadata": {},
     "output_type": "display_data"
    },
    {
     "data": {
      "image/png": "[encoded data removed]",
      "text/latex": [
       "$\\displaystyle \\left[\\begin{matrix}\\frac{e^{3 t}}{2} + \\frac{e^{- t}}{2} & \\frac{e^{3 t}}{2} - \\frac{e^{- t}}{2}\\\\\\frac{e^{3 t}}{2} - \\frac{e^{- t}}{2} & \\frac{e^{3 t}}{2} + \\frac{e^{- t}}{2}\\end{matrix}\\right]$"
      ],
      "text/plain": [
       "⎡ 3⋅t    -t   3⋅t    -t⎤\n",
       "⎢ℯ      ℯ    ℯ      ℯ  ⎥\n",
       "⎢──── + ───  ──── - ───⎥\n",
       "⎢ 2      2    2      2 ⎥\n",
       "⎢                      ⎥\n",
       "⎢ 3⋅t    -t   3⋅t    -t⎥\n",
       "⎢ℯ      ℯ    ℯ      ℯ  ⎥\n",
       "⎢──── - ───  ──── + ───⎥\n",
       "⎣ 2      2    2      2 ⎦"
      ]
     },
     "metadata": {},
     "output_type": "display_data"
    },
    {
     "data": {
      "image/png": "[encoded data removed]",
      "text/latex": [
       "$\\displaystyle \\left[\\begin{matrix}c_{0} \\left(\\frac{e^{3 t}}{2} + \\frac{e^{- t}}{2}\\right) + c_{1} \\left(\\frac{e^{3 t}}{2} - \\frac{e^{- t}}{2}\\right)\\\\c_{0} \\left(\\frac{e^{3 t}}{2} - \\frac{e^{- t}}{2}\\right) + c_{1} \\left(\\frac{e^{3 t}}{2} + \\frac{e^{- t}}{2}\\right)\\end{matrix}\\right]$"
      ],
      "text/plain": [
       "⎡   ⎛ 3⋅t    -t⎞      ⎛ 3⋅t    -t⎞⎤\n",
       "⎢   ⎜ℯ      ℯ  ⎟      ⎜ℯ      ℯ  ⎟⎥\n",
       "⎢c₀⋅⎜──── + ───⎟ + c₁⋅⎜──── - ───⎟⎥\n",
       "⎢   ⎝ 2      2 ⎠      ⎝ 2      2 ⎠⎥\n",
       "⎢                                 ⎥\n",
       "⎢   ⎛ 3⋅t    -t⎞      ⎛ 3⋅t    -t⎞⎥\n",
       "⎢   ⎜ℯ      ℯ  ⎟      ⎜ℯ      ℯ  ⎟⎥\n",
       "⎢c₀⋅⎜──── - ───⎟ + c₁⋅⎜──── + ───⎟⎥\n",
       "⎣   ⎝ 2      2 ⎠      ⎝ 2      2 ⎠⎦"
      ]
     },
     "metadata": {},
     "output_type": "display_data"
    },
    {
     "data": {
      "image/png": "[encoded data removed]",
      "text/latex": [
       "$\\displaystyle \\left( \\left[\\begin{matrix}c_{0} \\left(\\frac{3 e^{3 t}}{2} - \\frac{e^{- t}}{2}\\right) + c_{1} \\left(\\frac{3 e^{3 t}}{2} + \\frac{e^{- t}}{2}\\right)\\\\c_{0} \\left(\\frac{3 e^{3 t}}{2} + \\frac{e^{- t}}{2}\\right) + c_{1} \\left(\\frac{3 e^{3 t}}{2} - \\frac{e^{- t}}{2}\\right)\\end{matrix}\\right], \\  \\left[\\begin{matrix}2 c_{0} \\left(\\frac{e^{3 t}}{2} - \\frac{e^{- t}}{2}\\right) + c_{0} \\left(\\frac{e^{3 t}}{2} + \\frac{e^{- t}}{2}\\right) + c_{1} \\left(\\frac{e^{3 t}}{2} - \\frac{e^{- t}}{2}\\right) + 2 c_{1} \\left(\\frac{e^{3 t}}{2} + \\frac{e^{- t}}{2}\\right)\\\\c_{0} \\left(\\frac{e^{3 t}}{2} - \\frac{e^{- t}}{2}\\right) + 2 c_{0} \\left(\\frac{e^{3 t}}{2} + \\frac{e^{- t}}{2}\\right) + 2 c_{1} \\left(\\frac{e^{3 t}}{2} - \\frac{e^{- t}}{2}\\right) + c_{1} \\left(\\frac{e^{3 t}}{2} + \\frac{e^{- t}}{2}\\right)\\end{matrix}\\right]\\right)$"
      ],
      "text/plain": [
       "⎛⎡   ⎛   3⋅t    -t⎞      ⎛   3⋅t    -t⎞⎤  ⎡     ⎛ 3⋅t    -t⎞      ⎛ 3⋅t    -t⎞\n",
       "⎜⎢   ⎜3⋅ℯ      ℯ  ⎟      ⎜3⋅ℯ      ℯ  ⎟⎥  ⎢     ⎜ℯ      ℯ  ⎟      ⎜ℯ      ℯ  ⎟\n",
       "⎜⎢c₀⋅⎜────── - ───⎟ + c₁⋅⎜────── + ───⎟⎥  ⎢2⋅c₀⋅⎜──── - ───⎟ + c₀⋅⎜──── + ───⎟\n",
       "⎜⎢   ⎝  2       2 ⎠      ⎝  2       2 ⎠⎥  ⎢     ⎝ 2      2 ⎠      ⎝ 2      2 ⎠\n",
       "⎜⎢                                     ⎥, ⎢                                   \n",
       "⎜⎢   ⎛   3⋅t    -t⎞      ⎛   3⋅t    -t⎞⎥  ⎢   ⎛ 3⋅t    -t⎞        ⎛ 3⋅t    -t⎞\n",
       "⎜⎢   ⎜3⋅ℯ      ℯ  ⎟      ⎜3⋅ℯ      ℯ  ⎟⎥  ⎢   ⎜ℯ      ℯ  ⎟        ⎜ℯ      ℯ  ⎟\n",
       "⎜⎢c₀⋅⎜────── + ───⎟ + c₁⋅⎜────── - ───⎟⎥  ⎢c₀⋅⎜──── - ───⎟ + 2⋅c₀⋅⎜──── + ───⎟\n",
       "⎝⎣   ⎝  2       2 ⎠      ⎝  2       2 ⎠⎦  ⎣   ⎝ 2      2 ⎠        ⎝ 2      2 ⎠\n",
       "\n",
       "      ⎛ 3⋅t    -t⎞        ⎛ 3⋅t    -t⎞⎤⎞\n",
       "      ⎜ℯ      ℯ  ⎟        ⎜ℯ      ℯ  ⎟⎥⎟\n",
       " + c₁⋅⎜──── - ───⎟ + 2⋅c₁⋅⎜──── + ───⎟⎥⎟\n",
       "      ⎝ 2      2 ⎠        ⎝ 2      2 ⎠⎥⎟\n",
       "                                      ⎥⎟\n",
       "        ⎛ 3⋅t    -t⎞      ⎛ 3⋅t    -t⎞⎥⎟\n",
       "        ⎜ℯ      ℯ  ⎟      ⎜ℯ      ℯ  ⎟⎥⎟\n",
       " + 2⋅c₁⋅⎜──── - ───⎟ + c₁⋅⎜──── + ───⎟⎥⎟\n",
       "        ⎝ 2      2 ⎠      ⎝ 2      2 ⎠⎦⎠"
      ]
     },
     "execution_count": 6,
     "metadata": {},
     "output_type": "execute_result"
    }
   ],
   "source": [
    "var('c0 c1') # Coordinates of $x(0)$\n",
    "var('t') # Time\n",
    "M = Matrix([[exp(D[0,0] * t), 0], [0, exp(D[1,1] * t)]])\n",
    "c = Matrix([c0, c1])\n",
    "y = M * c\n",
    "display((M, c, y))\n",
    "assert y.diff(t) == D * y\n",
    "assert y.subs(t, 0) == c\n",
    "x = P * M * P ** -1 * c\n",
    "display(P * M * P ** -1, # Fundamental matrix of solutions\n",
    "        x) # Solution with `x(0)=c`\n",
    "assert x.diff(t).expand() == (A * x).expand()\n",
    "assert x.subs(t, 0) == c\n",
    "x.diff(t), A * x"
   ]
  }
 ],
 "metadata": {
  "kernelspec": {
   "display_name": "myenv",
   "language": "python",
   "name": "myenv"
  },
  "language_info": {
   "codemirror_mode": {
    "name": "ipython",
    "version": 3
   },
   "file_extension": ".py",
   "mimetype": "text/x-python",
   "name": "python",
   "nbconvert_exporter": "python",
   "pygments_lexer": "ipython3",
   "version": "3.8.2"
  },
  "toc-autonumbering": false,
  "toc-showcode": false,
  "toc-showmarkdowntxt": false,
  "toc-showtags": false
 },
 "nbformat": 4,
 "nbformat_minor": 4
}
