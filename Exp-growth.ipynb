{
 "cells": [
  {
   "cell_type": "markdown",
   "metadata": {},
   "source": [
    "# Which exponential grows faster?"
   ]
  },
  {
   "cell_type": "code",
   "execution_count": null,
   "metadata": {},
   "outputs": [],
   "source": [
    "import matplotlib.pyplot as plt\n",
    "import numpy as np"
   ]
  },
  {
   "cell_type": "code",
   "execution_count": null,
   "metadata": {},
   "outputs": [],
   "source": [
    "fig, ax = plt.subplots()\n",
    "\n",
    "X = np.linspace(-5, 4, 100)\n",
    "ax.plot(X, np.exp(X), label='$e^x$')\n",
    "ax.plot(X, np.exp(2*X)+np.exp(X), label='$e^{2x}+e^x$')\n",
    "ax.plot(X, np.exp(2*X)-np.exp(X), label='$e^{2x}-e^x$')\n",
    "ax.plot(X, np.exp(2*X)-20*np.exp(X), label='$e^{2x}-20e^x$')\n",
    "ax.legend()"
   ]
  },
  {
   "cell_type": "code",
   "execution_count": null,
   "metadata": {},
   "outputs": [],
   "source": [
    "fig, ax = plt.subplots()\n",
    "\n",
    "X = np.linspace(0, 5, 100)\n",
    "ax.plot(X, np.exp(X), label='$e^x$')\n",
    "ax.plot(X, np.exp(2*X), label='$e^{2x}$')\n",
    "ax.plot(X, np.exp(2*X)-20*np.exp(X), label='$e^{2x}-20e^x$')\n",
    "ax.legend()"
   ]
  },
  {
   "cell_type": "code",
   "execution_count": null,
   "metadata": {},
   "outputs": [],
   "source": [
    "fig, ax = plt.subplots()\n",
    "\n",
    "X = np.linspace(-5, 7, 100)\n",
    "ax.plot(X, np.exp(X), label='$e^x$')\n",
    "ax.plot(X, -np.exp(X), label='$-e^x$')\n",
    "ax.plot(X, np.exp(X) * np.cos(3*X), label='$e^x\\cos 3x$')\n",
    "ax.legend()"
   ]
  }
 ],
 "metadata": {
  "kernelspec": {
   "display_name": "myenv",
   "language": "python",
   "name": "myenv"
  },
  "language_info": {
   "codemirror_mode": {
    "name": "ipython",
    "version": 3
   },
   "file_extension": ".py",
   "mimetype": "text/x-python",
   "name": "python",
   "nbconvert_exporter": "python",
   "pygments_lexer": "ipython3",
   "version": "3.8.2"
  }
 },
 "nbformat": 4,
 "nbformat_minor": 4
}
