{
 "cells": [
  {
   "cell_type": "markdown",
   "metadata": {},
   "source": [
    "# Linear differential equations\n",
    "\n",
    "MAT332, Fall 2020, Yury Kudryashov, Week 2, Lecture 1"
   ]
  },
  {
   "cell_type": "code",
   "execution_count": 1,
   "metadata": {},
   "outputs": [],
   "source": [
    "import sympy as sp\n",
    "import numpy as np\n",
    "import matplotlib as mpl\n",
    "import matplotlib.pyplot as plt"
   ]
  },
  {
   "cell_type": "markdown",
   "metadata": {},
   "source": [
    "## Dimension 1\n",
    "\n",
    "Consider the equation $\\dot x=ax$, where $a$ is a real number and $x$ is an unknown funnction $\\mathbb R\\to\\mathbb R$. It is easy to see that $x(t)=e^{at}$ is a solution of this equation:\n",
    "$$\n",
    "\\frac{d}{dt}e^{at}=e^{at}\\cdot \\frac{d(at)}{dt}=ae^{at}.\n",
    "$$\n",
    "Next, $x(t)=ce^{at}$ is a solution of this equation for any $c$. Are there any other solutions? The answer is NO: for any solution we have $x(t)=x(0)e^{at}$. Indeed, if $x$ is a solution, then\n",
    "$$\n",
    "\\frac{d}{dt}\\left(x(t)e^{-at}\\right)=\\dot x(t)e^{-at}+x(t)\\cdot \\frac{d}{dt}e^{-at}=ax(t)e^{-at}-ax(t)e^{-at}=0,\n",
    "$$\n",
    "hence $x(t)e^{-at}$ is a constant function, $x(t)e^{-at}=x(0)e^{-a\\cdot 0}=x(0)$, thus $x(t)=x(0)e^{at}$."
   ]
  },
  {
   "cell_type": "markdown",
   "metadata": {},
   "source": [
    "We can also ask `Python` to verify that $x(t)=e^{at}$ is a solution."
   ]
  },
  {
   "cell_type": "code",
   "execution_count": 26,
   "metadata": {},
   "outputs": [
    {
     "data": {
      "text/latex": [
       "$\\displaystyle 0$"
      ],
      "text/plain": [
       "0"
      ]
     },
     "execution_count": 26,
     "metadata": {},
     "output_type": "execute_result"
    }
   ],
   "source": [
    "sp.var('a t c')\n",
    "x = c * sp.exp(a * t)\n",
    "sp.simplify(x.diff(t) - a * x)"
   ]
  },
  {
   "cell_type": "markdown",
   "metadata": {},
   "source": [
    "### Practice problems\n",
    "\n",
    "1. Find all solutions of the equation $\\dot x=2x$.\n",
    "2. Find the solution of $\\dot x=-x$ such that $x(1)=e$."
   ]
  },
  {
   "cell_type": "markdown",
   "metadata": {},
   "source": [
    "## Dimension 2\n",
    "\n",
    "Now consider an equation of the form\n",
    "$$\n",
    "\\dot x=Ax,\n",
    "$$\n",
    "where $A$ is a $(2\\times 2)$-matrix and $x\\colon\\mathbb R\\to\\mathbb R^2$, $x(t)=\\begin{pmatrix}x_1(t)\\\\x_2(t)\\end{pmatrix}$ is an unknown vector-valued function.\n",
    "\n",
    "Before discussing the general case, consider a few special cases."
   ]
  },
  {
   "cell_type": "markdown",
   "metadata": {},
   "source": [
    "### Diagonal matrix $A=\\begin{pmatrix}\\lambda&0\\\\0&\\mu\\end{pmatrix}$\n",
    "\n",
    "In this case the system takes the form\n",
    "$$\n",
    "\\begin{align}\n",
    "\\dot x_1&=\\lambda x_1;\\\\\n",
    "\\dot x_2&=\\mu x_2,\n",
    "\\end{align}\n",
    "$$\n",
    "and we can solve these two equations independently: $x_1(t)=x_1(0)e^{\\lambda t}$, $x_2(t)=x_2(0)e^{\\mu t}$. We can also write the answer as\n",
    "$$\n",
    "x(t)=\\begin{pmatrix}e^{\\lambda t}&0\\\\0&e^{\\mu t}\\end{pmatrix}x(0).\n",
    "$$"
   ]
  },
  {
   "cell_type": "markdown",
   "metadata": {},
   "source": [
    "Again, we can ask `Python` to double check our computation. "
   ]
  },
  {
   "cell_type": "code",
   "execution_count": 30,
   "metadata": {},
   "outputs": [
    {
     "data": {
      "text/latex": [
       "$\\displaystyle \\left[\\begin{matrix}λ & 0\\\\0 & μ\\end{matrix}\\right]$"
      ],
      "text/plain": [
       "Matrix([\n",
       "[λ, 0],\n",
       "[0, μ]])"
      ]
     },
     "metadata": {},
     "output_type": "display_data"
    },
    {
     "data": {
      "text/latex": [
       "$\\displaystyle \\left[\\begin{matrix}e^{t λ} & 0\\\\0 & e^{t μ}\\end{matrix}\\right]$"
      ],
      "text/plain": [
       "Matrix([\n",
       "[exp(t*λ),        0],\n",
       "[       0, exp(t*μ)]])"
      ]
     },
     "metadata": {},
     "output_type": "display_data"
    },
    {
     "data": {
      "text/latex": [
       "$\\displaystyle \\left[\\begin{matrix}c_{0} e^{t λ}\\\\c_{1} e^{t μ}\\end{matrix}\\right]$"
      ],
      "text/plain": [
       "Matrix([\n",
       "[c0*exp(t*λ)],\n",
       "[c1*exp(t*μ)]])"
      ]
     },
     "metadata": {},
     "output_type": "display_data"
    },
    {
     "data": {
      "text/latex": [
       "$\\displaystyle \\left[\\begin{matrix}0\\\\0\\end{matrix}\\right]$"
      ],
      "text/plain": [
       "Matrix([\n",
       "[0],\n",
       "[0]])"
      ]
     },
     "metadata": {},
     "output_type": "display_data"
    },
    {
     "data": {
      "text/latex": [
       "$\\displaystyle \\left[\\begin{matrix}c_{0}\\\\c_{1}\\end{matrix}\\right]$"
      ],
      "text/plain": [
       "Matrix([\n",
       "[c0],\n",
       "[c1]])"
      ]
     },
     "metadata": {},
     "output_type": "display_data"
    }
   ],
   "source": [
    "sp.var('λ μ t c0 c1')\n",
    "c = sp.Matrix([c0, c1])\n",
    "A = sp.Matrix([[λ, 0], [0, μ]])\n",
    "M = sp.Matrix([[sp.exp(λ * t), 0], [0, sp.exp(μ * t)]])\n",
    "x = M * c\n",
    "display(A) # display matrix `A`\n",
    "display(M) # display the fundamental matrix of solutions\n",
    "display(x) # display the solution `x`\n",
    "display(x.diff(t) - A * x) # verify that `x` is a solution\n",
    "display(x.subs(t, 0)) # verify that `x(0)=(c0, c1)`"
   ]
  },
  {
   "cell_type": "markdown",
   "metadata": {},
   "source": [
    "### Jordan cell $A=\\begin{pmatrix}\\lambda&1\\\\0&\\lambda\\end{pmatrix}$\n",
    "\n",
    "In this case the system takes the form\n",
    "$$\n",
    "\\begin{align}\n",
    "\\dot x_1&=\\lambda x_1+x_2;\\\\\n",
    "\\dot x_2&=\\lambda x_2.\n",
    "\\end{align}\n",
    "$$\n",
    "While these equations are no longer independent, we can solve the second one, then substitute the solution in the first one. Then we get $x_2(t)=x_2(0)e^{\\lambda t}$, $\\dot x_1=\\lambda x_1+x_2(0)e^{\\lambda t}$. One can verify that $x_1(t)=x_2(0)te^{\\lambda t}+x_1(0)e^{\\lambda t}$ is a solution of this differential equation. As we will see later, this is the only solution of this equation with given $x_1(0)$. Again, we can write down the answer as\n",
    "$$\n",
    "x(t)=\\begin{pmatrix}e^{\\lambda t}&te^{\\lambda t}\\\\0&e^{\\lambda t}\\end{pmatrix}x(0)\n",
    "$$\n",
    "and let `Python` verify the answer."
   ]
  },
  {
   "cell_type": "code",
   "execution_count": 32,
   "metadata": {},
   "outputs": [
    {
     "data": {
      "text/latex": [
       "$\\displaystyle \\left[\\begin{matrix}λ & 1\\\\0 & λ\\end{matrix}\\right]$"
      ],
      "text/plain": [
       "Matrix([\n",
       "[λ, 1],\n",
       "[0, λ]])"
      ]
     },
     "metadata": {},
     "output_type": "display_data"
    },
    {
     "data": {
      "text/latex": [
       "$\\displaystyle \\left[\\begin{matrix}e^{t λ} & t e^{t λ}\\\\0 & e^{t λ}\\end{matrix}\\right]$"
      ],
      "text/plain": [
       "Matrix([\n",
       "[exp(t*λ), t*exp(t*λ)],\n",
       "[       0,   exp(t*λ)]])"
      ]
     },
     "metadata": {},
     "output_type": "display_data"
    },
    {
     "data": {
      "text/latex": [
       "$\\displaystyle \\left[\\begin{matrix}c_{0} e^{t λ} + c_{1} t e^{t λ}\\\\c_{1} e^{t λ}\\end{matrix}\\right]$"
      ],
      "text/plain": [
       "Matrix([\n",
       "[c0*exp(t*λ) + c1*t*exp(t*λ)],\n",
       "[                c1*exp(t*λ)]])"
      ]
     },
     "metadata": {},
     "output_type": "display_data"
    },
    {
     "data": {
      "text/latex": [
       "$\\displaystyle \\left[\\begin{matrix}c_{0} λ e^{t λ} + c_{1} t λ e^{t λ} - λ \\left(c_{0} e^{t λ} + c_{1} t e^{t λ}\\right)\\\\0\\end{matrix}\\right]$"
      ],
      "text/plain": [
       "Matrix([\n",
       "[c0*λ*exp(t*λ) + c1*t*λ*exp(t*λ) - λ*(c0*exp(t*λ) + c1*t*exp(t*λ))],\n",
       "[                                                                0]])"
      ]
     },
     "metadata": {},
     "output_type": "display_data"
    },
    {
     "data": {
      "text/latex": [
       "$\\displaystyle \\left[\\begin{matrix}0\\\\0\\end{matrix}\\right]$"
      ],
      "text/plain": [
       "Matrix([\n",
       "[0],\n",
       "[0]])"
      ]
     },
     "metadata": {},
     "output_type": "display_data"
    },
    {
     "data": {
      "text/latex": [
       "$\\displaystyle \\left[\\begin{matrix}c_{0}\\\\c_{1}\\end{matrix}\\right]$"
      ],
      "text/plain": [
       "Matrix([\n",
       "[c0],\n",
       "[c1]])"
      ]
     },
     "metadata": {},
     "output_type": "display_data"
    }
   ],
   "source": [
    "A = sp.Matrix([[λ, 1], [0, λ]])\n",
    "M = sp.Matrix([[sp.exp(λ * t), t * sp.exp(λ * t)], [0, sp.exp(λ * t)]])\n",
    "x = M * c\n",
    "display(A) # display matrix `A`\n",
    "display(M) # display the fundamental matrix of solutions\n",
    "display(x) # display the solution `x`\n",
    "display(x.diff(t) - A * x) # verify that `x` is a solution\n",
    "display(sp.simplify(x.diff(t) - A * x)) # verify that `x` is a solution\n",
    "display(x.subs(t, 0)) # verify that `x(0)=(c0, c1)`"
   ]
  },
  {
   "cell_type": "markdown",
   "metadata": {},
   "source": [
    "### Complex eigenvalues $A=\\begin{pmatrix}a&-b\\\\b&a\\end{pmatrix}$\n",
    "\n",
    "In this case it is hard to guess the solution (at least without using complex exponentials, see the textbook) but it is easy to verify that\n",
    "$$\n",
    "\\begin{align}\n",
    "x_1(t)&=x_1(0)e^{at}\\cos(bt)-x_2(0)e^{at}\\sin(bt),\\\\\n",
    "x_2(t)&=x_1(0)e^{at}\\sin(bt)+x_2(0)e^{at}\\cos(bt)\n",
    "\\end{align}\n",
    "$$\n",
    "is a solution."
   ]
  },
  {
   "cell_type": "code",
   "execution_count": 34,
   "metadata": {},
   "outputs": [
    {
     "data": {
      "text/latex": [
       "$\\displaystyle \\left[\\begin{matrix}a & - b\\\\b & a\\end{matrix}\\right]$"
      ],
      "text/plain": [
       "Matrix([\n",
       "[a, -b],\n",
       "[b,  a]])"
      ]
     },
     "metadata": {},
     "output_type": "display_data"
    },
    {
     "data": {
      "text/latex": [
       "$\\displaystyle \\left[\\begin{matrix}e^{a t} \\cos{\\left(b t \\right)} & - e^{a t} \\sin{\\left(b t \\right)}\\\\e^{a t} \\sin{\\left(b t \\right)} & e^{a t} \\cos{\\left(b t \\right)}\\end{matrix}\\right]$"
      ],
      "text/plain": [
       "Matrix([\n",
       "[exp(a*t)*cos(b*t), -exp(a*t)*sin(b*t)],\n",
       "[exp(a*t)*sin(b*t),  exp(a*t)*cos(b*t)]])"
      ]
     },
     "metadata": {},
     "output_type": "display_data"
    },
    {
     "data": {
      "text/latex": [
       "$\\displaystyle \\left[\\begin{matrix}c_{0} e^{a t} \\cos{\\left(b t \\right)} - c_{1} e^{a t} \\sin{\\left(b t \\right)}\\\\c_{0} e^{a t} \\sin{\\left(b t \\right)} + c_{1} e^{a t} \\cos{\\left(b t \\right)}\\end{matrix}\\right]$"
      ],
      "text/plain": [
       "Matrix([\n",
       "[c0*exp(a*t)*cos(b*t) - c1*exp(a*t)*sin(b*t)],\n",
       "[c0*exp(a*t)*sin(b*t) + c1*exp(a*t)*cos(b*t)]])"
      ]
     },
     "metadata": {},
     "output_type": "display_data"
    },
    {
     "data": {
      "text/latex": [
       "$\\displaystyle \\left[\\begin{matrix}a c_{0} e^{a t} \\cos{\\left(b t \\right)} - a c_{1} e^{a t} \\sin{\\left(b t \\right)} - a \\left(c_{0} e^{a t} \\cos{\\left(b t \\right)} - c_{1} e^{a t} \\sin{\\left(b t \\right)}\\right) - b c_{0} e^{a t} \\sin{\\left(b t \\right)} - b c_{1} e^{a t} \\cos{\\left(b t \\right)} + b \\left(c_{0} e^{a t} \\sin{\\left(b t \\right)} + c_{1} e^{a t} \\cos{\\left(b t \\right)}\\right)\\\\a c_{0} e^{a t} \\sin{\\left(b t \\right)} + a c_{1} e^{a t} \\cos{\\left(b t \\right)} - a \\left(c_{0} e^{a t} \\sin{\\left(b t \\right)} + c_{1} e^{a t} \\cos{\\left(b t \\right)}\\right) + b c_{0} e^{a t} \\cos{\\left(b t \\right)} - b c_{1} e^{a t} \\sin{\\left(b t \\right)} - b \\left(c_{0} e^{a t} \\cos{\\left(b t \\right)} - c_{1} e^{a t} \\sin{\\left(b t \\right)}\\right)\\end{matrix}\\right]$"
      ],
      "text/plain": [
       "Matrix([\n",
       "[a*c0*exp(a*t)*cos(b*t) - a*c1*exp(a*t)*sin(b*t) - a*(c0*exp(a*t)*cos(b*t) - c1*exp(a*t)*sin(b*t)) - b*c0*exp(a*t)*sin(b*t) - b*c1*exp(a*t)*cos(b*t) + b*(c0*exp(a*t)*sin(b*t) + c1*exp(a*t)*cos(b*t))],\n",
       "[a*c0*exp(a*t)*sin(b*t) + a*c1*exp(a*t)*cos(b*t) - a*(c0*exp(a*t)*sin(b*t) + c1*exp(a*t)*cos(b*t)) + b*c0*exp(a*t)*cos(b*t) - b*c1*exp(a*t)*sin(b*t) - b*(c0*exp(a*t)*cos(b*t) - c1*exp(a*t)*sin(b*t))]])"
      ]
     },
     "metadata": {},
     "output_type": "display_data"
    },
    {
     "data": {
      "text/latex": [
       "$\\displaystyle \\left[\\begin{matrix}0\\\\0\\end{matrix}\\right]$"
      ],
      "text/plain": [
       "Matrix([\n",
       "[0],\n",
       "[0]])"
      ]
     },
     "metadata": {},
     "output_type": "display_data"
    },
    {
     "data": {
      "text/latex": [
       "$\\displaystyle \\left[\\begin{matrix}c_{0}\\\\c_{1}\\end{matrix}\\right]$"
      ],
      "text/plain": [
       "Matrix([\n",
       "[c0],\n",
       "[c1]])"
      ]
     },
     "metadata": {},
     "output_type": "display_data"
    }
   ],
   "source": [
    "sp.var('a b')\n",
    "A = sp.Matrix([[a, -b], [b, a]])\n",
    "M = sp.exp(a * t) * sp.Matrix([[sp.cos(b * t), -sp.sin(b * t)], [sp.sin(b * t), sp.cos(b * t)]])\n",
    "x = M * c\n",
    "display(A) # display matrix `A`\n",
    "display(M) # display the fundamental matrix of solutions\n",
    "display(x) # display the solution `x`\n",
    "display(x.diff(t) - A * x) # verify that `x` is a solution\n",
    "display(sp.simplify(x.diff(t) - A * x)) # verify that `x` is a solution\n",
    "display(x.subs(t, 0)) # verify that `x(0)=(c0, c1)`"
   ]
  },
  {
   "cell_type": "markdown",
   "metadata": {},
   "source": [
    "### Change of basis (a.k.a. conjugate matrix)\n",
    "\n",
    "[Jordan normal form theorem](https://en.wikipedia.org/wiki/Jordan_normal_form) implies that any $(2\\times 2)$-matrix is conjugate to one of the matrices we discussed above. Thus in order to solve $\\dot x=Ax$ with any matrix $A$ it suffices to learn how to deal with each of these cases (done) and how to solve $\\dot x=CAC^{-1}x$ provided that we know the solutions of $\\dot y=Ay$. The answer is simple: for each solution $y(t)$ of $\\dot y=Ay$, the function $x(t)=Cy(t)$ is a solution of $\\dot x=CAC^{-1}x$.\n",
    "\n",
    "Indeed,\n",
    "$$\n",
    "\\frac{d}{dt}(Cy(t))=C\\dot y(t)=CAy(t)=(CAC^{-1})Cy(t).\n",
    "$$"
   ]
  },
  {
   "cell_type": "markdown",
   "metadata": {},
   "source": [
    "## Exponential of a matrix\n",
    "\n",
    "Given an $(n\\times n)$-matrix $A$, one can define $\\exp(A)=e^{A}$ as\n",
    "$$e^{A}=\\sum_{n=0}^{\\infty}\\frac{1}{n!}A^n=I+A+\\frac{A^2}{2!}+\\dots$$,\n",
    "where $n!=1\\times\\dots\\times n$ is the factorial of $n$. Then $x(t)=e^{At}x(0)$ is a solution of $\\dot x=Ax$. Indeed,\n",
    "$$\\frac{d}{dt}(e^{At})=\\frac{d}{dt}\\left(I+tA+\\frac{t^2}{2!}A^2+\\frac{t^3}{3!}A^3+\\dots+\\frac{t^n}{n!}A^n+\\dots\\right)=0+A+tA^2+\\frac{t^2}{2!}A^3+\\dots+\\frac{t^{n-1}}{(n-1)!}A^n+\\dots=Ae^{At},$$\n",
    "hence\n",
    "$$\\frac{d}{dt}(e^{At}x(0))=Ae^{At}x(0).$$\n",
    "\n",
    "Note that computing $e^{At}$ is not a trivial task, so this formula gives us another way to think about the formulas for solutions we discussed above, not a simpler way to compute these solutions."
   ]
  }
 ],
 "metadata": {
  "kernelspec": {
   "display_name": "myenv",
   "language": "python",
   "name": "myenv"
  },
  "language_info": {
   "codemirror_mode": {
    "name": "ipython",
    "version": 3
   },
   "file_extension": ".py",
   "mimetype": "text/x-python",
   "name": "python",
   "nbconvert_exporter": "python",
   "pygments_lexer": "ipython3",
   "version": "3.8.2"
  }
 },
 "nbformat": 4,
 "nbformat_minor": 4
}
