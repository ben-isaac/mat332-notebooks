{
 "cells": [
  {
   "cell_type": "markdown",
   "metadata": {},
   "source": [
    "# Introduction to dynamical systems\n",
    "Professor: Yury (Iurii) Kudriashov"
   ]
  },
  {
   "cell_type": "code",
   "execution_count": 1,
   "metadata": {},
   "outputs": [],
   "source": [
    "%matplotlib widget\n",
    "import math\n",
    "import numpy as np\n",
    "import matplotlib.pyplot as plt\n",
    "from mpl_toolkits.mplot3d import Axes3D\n",
    "from scipy.integrate import solve_ivp\n",
    "import ipywidgets as widgets"
   ]
  },
  {
   "cell_type": "markdown",
   "metadata": {},
   "source": [
    "$$\\ddot x+w^2x=0$$"
   ]
  },
  {
   "cell_type": "code",
   "execution_count": 2,
   "metadata": {},
   "outputs": [
    {
     "data": {
      "application/vnd.jupyter.widget-view+json": {
       "model_id": "2dee5a2c0b3f4e9b976b097b8ce7feb0",
       "version_major": 2,
       "version_minor": 0
      },
      "text/plain": [
       "Canvas(toolbar=Toolbar(toolitems=[('Home', 'Reset original view', 'home', 'home'), ('Back', 'Back to previous …"
      ]
     },
     "metadata": {},
     "output_type": "display_data"
    },
    {
     "data": {
      "application/vnd.jupyter.widget-view+json": {
       "model_id": "9ea08ad217784b7296efcf9f8f91ac34",
       "version_major": 2,
       "version_minor": 0
      },
      "text/plain": [
       "interactive(children=(FloatSlider(value=1.05, description='w', max=2.0, min=0.1), Output()), _dom_classes=('wi…"
      ]
     },
     "metadata": {},
     "output_type": "display_data"
    }
   ],
   "source": [
    "fig, ax = plt.subplots(figsize=(6, 4))\n",
    "ax.set_ylim([-5, 5])\n",
    "ax.grid(True)\n",
    "\n",
    "Y, X = np.mgrid[-5:5:100j, -5:5:100j]\n",
    "\n",
    "@widgets.interact(w=(0.1, 2.0))\n",
    "def oscillator(w):\n",
    "    ax.clear()\n",
    "    U = Y\n",
    "    V = -w ** 2 * X\n",
    "    ax.streamplot(X, Y, U, V)"
   ]
  },
  {
   "cell_type": "code",
   "execution_count": 3,
   "metadata": {},
   "outputs": [
    {
     "data": {
      "application/vnd.jupyter.widget-view+json": {
       "model_id": "012ac22571fe4bfe99d3d56866f33666",
       "version_major": 2,
       "version_minor": 0
      },
      "text/plain": [
       "Canvas(toolbar=Toolbar(toolitems=[('Home', 'Reset original view', 'home', 'home'), ('Back', 'Back to previous …"
      ]
     },
     "metadata": {},
     "output_type": "display_data"
    },
    {
     "data": {
      "application/vnd.jupyter.widget-view+json": {
       "model_id": "62100857184948e48a332fdd226d1442",
       "version_major": 2,
       "version_minor": 0
      },
      "text/plain": [
       "interactive(children=(FloatSlider(value=0.0, description='w', max=2.0, min=-2.0), Output()), _dom_classes=('wi…"
      ]
     },
     "metadata": {},
     "output_type": "display_data"
    }
   ],
   "source": [
    "fig, ax = plt.subplots(figsize=(6, 4))\n",
    "\n",
    "Y, X = np.mgrid[-5:5:100j, -5:5:100j]\n",
    "\n",
    "@widgets.interact(w=(-2.0, 2.0))\n",
    "def oscillator2(w):\n",
    "    ax.clear()\n",
    "    ax.set_ylim([-5, 5])\n",
    "    ax.set_xlim([-5, 5])\n",
    "    U = Y\n",
    "    V = -X + w * Y\n",
    "    ax.streamplot(X, Y, U, V, start_points=[(2, 0)])"
   ]
  },
  {
   "cell_type": "markdown",
   "metadata": {},
   "source": [
    "$\\ddot x=-x+\\sin(\\omega t)$"
   ]
  },
  {
   "cell_type": "code",
   "execution_count": 4,
   "metadata": {},
   "outputs": [
    {
     "data": {
      "application/vnd.jupyter.widget-view+json": {
       "model_id": "af5c9a078e844851b4084c56d3fab01f",
       "version_major": 2,
       "version_minor": 0
      },
      "text/plain": [
       "Canvas(toolbar=Toolbar(toolitems=[('Home', 'Reset original view', 'home', 'home'), ('Back', 'Back to previous …"
      ]
     },
     "metadata": {},
     "output_type": "display_data"
    },
    {
     "data": {
      "application/vnd.jupyter.widget-view+json": {
       "model_id": "cd071cf0c4cb45b98d1858bcb7aea46a",
       "version_major": 2,
       "version_minor": 0
      },
      "text/plain": [
       "interactive(children=(FloatSlider(value=0.0, description='w', max=1.5, min=-0.5, step=0.05), Output()), _dom_c…"
      ]
     },
     "metadata": {},
     "output_type": "display_data"
    }
   ],
   "source": [
    "fig = plt.figure(figsize=plt.figaspect(0.5))\n",
    "ax1 = fig.add_subplot(1, 2, 1)\n",
    "ax2 = fig.add_subplot(1, 2, 2, projection='3d')\n",
    "\n",
    "@widgets.interact(w=(-0.5, 1.5, 0.05))\n",
    "def oscillator3(w=0):\n",
    "    ax1.clear()\n",
    "    for pt in [(1, 0), (0, 1)]:\n",
    "        ax2.clear()\n",
    "        r = solve_ivp(lambda t, x: (x[1], -x[0]+math.sin(w * t)), (0, 200), pt, dense_output=True)\n",
    "        T = np.linspace(0, 200, 1000)\n",
    "        Y = r.sol(T)\n",
    "        ax1.plot(T, Y[0])\n",
    "        ax2.plot(T, Y[0], Y[1])\n",
    "    ax1.set_ylim(-6, 6)"
   ]
  },
  {
   "cell_type": "markdown",
   "metadata": {},
   "source": [
    "$\\dot x=-10x+10y$, $\\dot y=28x-y-xz$, $\\dot z=-(8/3)z+xy$"
   ]
  },
  {
   "cell_type": "code",
   "execution_count": 5,
   "metadata": {},
   "outputs": [
    {
     "data": {
      "application/vnd.jupyter.widget-view+json": {
       "model_id": "10eaf079d0f64668bfa94c485854c400",
       "version_major": 2,
       "version_minor": 0
      },
      "text/plain": [
       "Canvas(toolbar=Toolbar(toolitems=[('Home', 'Reset original view', 'home', 'home'), ('Back', 'Back to previous …"
      ]
     },
     "metadata": {},
     "output_type": "display_data"
    },
    {
     "data": {
      "application/vnd.jupyter.widget-view+json": {
       "model_id": "013d58bb136642569ec74d85fab9f9b7",
       "version_major": 2,
       "version_minor": 0
      },
      "text/plain": [
       "interactive(children=(FloatSlider(value=0.0, description='w', max=1.5, min=-0.5, step=0.05), Output()), _dom_c…"
      ]
     },
     "metadata": {},
     "output_type": "display_data"
    }
   ],
   "source": [
    "fig = plt.figure()\n",
    "ax = fig.add_subplot(1, 1, 1, projection='3d')\n",
    "\n",
    "@widgets.interact(w=(-0.5, 1.5, 0.05))\n",
    "def lorenz(w=0):\n",
    "    ax.clear()\n",
    "    for pt in [(0.01, 0, 0)]:\n",
    "        r = solve_ivp(lambda t, x: (-10*x[0]+10*x[1], 28*x[0] - x[1] - x[0] * x[2], (-8/3)*x[2] + x[0]*x[1]), (0, 200), pt, dense_output=True)\n",
    "        T = np.linspace(0, 30, 10000)\n",
    "        Y = r.sol(T)\n",
    "        ax.plot(Y[0], Y[1], Y[2])"
   ]
  }
 ],
 "metadata": {
  "kernelspec": {
   "display_name": "myenv",
   "language": "python",
   "name": "myenv"
  },
  "language_info": {
   "codemirror_mode": {
    "name": "ipython",
    "version": 3
   },
   "file_extension": ".py",
   "mimetype": "text/x-python",
   "name": "python",
   "nbconvert_exporter": "python",
   "pygments_lexer": "ipython3",
   "version": "3.8.2"
  }
 },
 "nbformat": 4,
 "nbformat_minor": 4
}
